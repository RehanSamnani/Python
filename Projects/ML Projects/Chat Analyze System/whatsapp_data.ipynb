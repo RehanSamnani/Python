{
 "cells": [
  {
   "cell_type": "code",
   "execution_count": null,
   "id": "1b86fc06",
   "metadata": {},
   "outputs": [
    {
     "name": "stdout",
     "output_type": "stream",
     "text": [
      "9/23/24, 1:01 PM - Messages and calls are end-to-end encrypted. No one outside of this chat, not even WhatsApp, can read or listen to them. Tap to learn more.\n",
      "9/20/24, 3:59 PM - Ankush Kapoor created group \"CMPN C 2028 UNOFFICIAL\"\n",
      "9/23/24, 1:01 PM - Vedant CMPN C added you\n",
      "9/23/24, 1:01 PM - ~ SHAMANT added ~ Noor Mohammad\n",
      "9/23/24, 1:02 PM - +91 70453 32263 joined using this group's invite link\n",
      "9/23/24, 1:03 PM - Swakeet CMPN: <Media omitted>\n",
      "9/23/24, 1:04 PM - Rohit Vit Com added ~ Om and ~ Tanmay\n",
      "9/23/24, 1:04 PM - Shlok CMPN C changed this group's icon\n",
      "9/23/24, 1:04 PM - Ankush Kapoor changed the settings so only admins can edit the group settings\n",
      "9/23/24, 1:04 PM - Shlok CMPN C added ~ Kanishk\n",
      "9/23/24, 1:05 PM - ~ Saurabh added Aayush VIT\n",
      "9/23/24, 1:05 PM - Shlok CMPN C added ~ Kimaya\n",
      "9/23/24, 1:05 PM - Abu Hurera added ~ Chinmay\n",
      "9/23/24, 1:07 PM - ~ Ishaan added shravv. Vit\n",
      "9/23/24, 1:07 PM - ~ Ishaan added ~ Krushna\n",
      "9/23/24, 1:07 PM - ~ Ishaan added Neha [CMPN C]\n",
      "9/23/24, 1:09 PM\n"
     ]
    }
   ],
   "source": [
    "import re\n",
    "import pandas as pd\n",
    "import numpy as np\n",
    "\n",
    "f=open(r\"DATA\\WhatsApp Chat with CMPN C 24-28 UNOFFICIAL.txt\",encoding=\"utf-8\")\n",
    "data=f.read()\n",
    "pattern=\"\\d{1,2}/\\d{1,2}/\\d{2,4},\\s\\d{1,2}:\\d{2}\\s-\\s\"\n"
   ]
  }
 ],
 "metadata": {
  "kernelspec": {
   "display_name": "Python 3",
   "language": "python",
   "name": "python3"
  },
  "language_info": {
   "codemirror_mode": {
    "name": "ipython",
    "version": 3
   },
   "file_extension": ".py",
   "mimetype": "text/x-python",
   "name": "python",
   "nbconvert_exporter": "python",
   "pygments_lexer": "ipython3",
   "version": "3.12.8"
  }
 },
 "nbformat": 4,
 "nbformat_minor": 5
}
